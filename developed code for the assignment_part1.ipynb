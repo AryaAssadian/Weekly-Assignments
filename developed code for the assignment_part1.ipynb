{
  "nbformat": 4,
  "nbformat_minor": 0,
  "metadata": {
    "colab": {
      "name": "Untitled9.ipynb",
      "provenance": [],
      "collapsed_sections": []
    },
    "kernelspec": {
      "name": "python3",
      "display_name": "Python 3"
    },
    "language_info": {
      "name": "python"
    }
  },
  "cells": [
    {
      "cell_type": "code",
      "metadata": {
        "id": "mwy7bcbU2bgr"
      },
      "source": [
        "import pandas as pd\n",
        "import numpy as np\n",
        "import os\n",
        "\n",
        "\n",
        "#defining the path\n",
        "Path_to_Data=\"/content/drive/MyDrive/EETBS 2021-2022/Data\"\n",
        "Path_to_Weather=os.path.join(Path_to_Data,\"Austin_weather_2014.csv\")\n",
        "Path_to_Consumpion=os.path.join(Path_to_Data,\"consumption_5545.csv\")\n",
        "Path_to_Irradiance=os.path.join(Path_to_Data,\"irradiance_2014_gen.csv\")\n",
        "\n",
        "#reading the files\n",
        "Consumption_DF=pd.read_csv(Path_to_Consumpion, sep=\",\",index_col=0 ,parse_dates=[0])\n",
        "Weather_DF=pd.read_csv(Path_to_Weather, sep=\";\",index_col=0,parse_dates=[0],\n",
        "                           date_parser=lambda col: pd.to_datetime(col,utc=True).tz_convert(\"US/Central\").tz_localize(None))\n",
        "Irradiance_DF=pd.read_csv(Path_to_Irradiance, sep=\";\",index_col=1, parse_dates=[1])\n",
        "\n",
        "\n",
        "#extracting temperature from the available data\n",
        "\n",
        "Temperature_DF=Weather_DF.loc[:,[\"temperature\"]]\n",
        "\n",
        "Irradiance_DF=Irradiance_DF.loc[:,[\"gen\"]]\n",
        "\n",
        "#renaming the columns\n",
        "Consumption_DF=Consumption_DF.rename(columns={\"air conditioner_5545\":\"Consumption\"})\n",
        "Irradiance_DF=Irradiance_DF.rename(columns={\"gen\":\"Irradiance\"})\n",
        "\n"
      ],
      "execution_count": null,
      "outputs": []
    },
    {
      "cell_type": "code",
      "metadata": {
        "id": "phYOrKhHtq40"
      },
      "source": [
        "#removing the negative values for irradiance\n",
        "\n",
        "Irradiance_boolean=Irradiance_DF.loc[:,\"Irradiance\"]<0\n",
        "Irradiance_DF.loc[Irradiance_boolean,\"Irradiance\"]=0\n"
      ],
      "execution_count": null,
      "outputs": []
    },
    {
      "cell_type": "code",
      "metadata": {
        "id": "hIODN-E7uvql"
      },
      "source": [
        "#rpresenting the available data in a single data frame and removing the unavailable values\n",
        "\n",
        "DF_joined=Irradiance_DF.join([Consumption_DF,Temperature_DF])\n",
        "DF_joined=DF_joined.dropna()\n"
      ],
      "execution_count": null,
      "outputs": []
    },
    {
      "cell_type": "code",
      "metadata": {
        "colab": {
          "base_uri": "https://localhost:8080/",
          "height": 455
        },
        "id": "fp2sELkEyI5f",
        "outputId": "5298bc9f-4023-4d62-be89-5e4d5a628a84"
      },
      "source": [
        "#saving the file as a notebook to be edited later.\n",
        "\n",
        "folder_path=\"/content/drive/MyDrive/EETBS 2021-2022/Processed Data\"\n",
        "note_book_name=\"DF_joined_arya_assadian.csv\"\n",
        "path_book_name=os.path.join(folder_path,note_book_name)\n",
        "DF_joined.to_csv(path_book_name)\n",
        "DF_joined\n",
        "\n",
        "\n",
        "#Assignment to be continued in a new note book.\n"
      ],
      "execution_count": null,
      "outputs": [
        {
          "output_type": "execute_result",
          "data": {
            "text/html": [
              "<div>\n",
              "<style scoped>\n",
              "    .dataframe tbody tr th:only-of-type {\n",
              "        vertical-align: middle;\n",
              "    }\n",
              "\n",
              "    .dataframe tbody tr th {\n",
              "        vertical-align: top;\n",
              "    }\n",
              "\n",
              "    .dataframe thead th {\n",
              "        text-align: right;\n",
              "    }\n",
              "</style>\n",
              "<table border=\"1\" class=\"dataframe\">\n",
              "  <thead>\n",
              "    <tr style=\"text-align: right;\">\n",
              "      <th></th>\n",
              "      <th>Irradiance</th>\n",
              "      <th>Consumption</th>\n",
              "      <th>temperature</th>\n",
              "    </tr>\n",
              "    <tr>\n",
              "      <th>localhour</th>\n",
              "      <th></th>\n",
              "      <th></th>\n",
              "      <th></th>\n",
              "    </tr>\n",
              "  </thead>\n",
              "  <tbody>\n",
              "    <tr>\n",
              "      <th>2014-01-01 06:00:00</th>\n",
              "      <td>0.000000</td>\n",
              "      <td>0.0</td>\n",
              "      <td>39.36</td>\n",
              "    </tr>\n",
              "    <tr>\n",
              "      <th>2014-01-01 07:00:00</th>\n",
              "      <td>0.052800</td>\n",
              "      <td>0.0</td>\n",
              "      <td>37.86</td>\n",
              "    </tr>\n",
              "    <tr>\n",
              "      <th>2014-01-01 08:00:00</th>\n",
              "      <td>0.773583</td>\n",
              "      <td>0.0</td>\n",
              "      <td>38.97</td>\n",
              "    </tr>\n",
              "    <tr>\n",
              "      <th>2014-01-01 09:00:00</th>\n",
              "      <td>2.097700</td>\n",
              "      <td>0.0</td>\n",
              "      <td>45.85</td>\n",
              "    </tr>\n",
              "    <tr>\n",
              "      <th>2014-01-01 10:00:00</th>\n",
              "      <td>3.036750</td>\n",
              "      <td>0.0</td>\n",
              "      <td>51.42</td>\n",
              "    </tr>\n",
              "    <tr>\n",
              "      <th>...</th>\n",
              "      <td>...</td>\n",
              "      <td>...</td>\n",
              "      <td>...</td>\n",
              "    </tr>\n",
              "    <tr>\n",
              "      <th>2014-12-30 20:00:00</th>\n",
              "      <td>0.000000</td>\n",
              "      <td>0.0</td>\n",
              "      <td>41.52</td>\n",
              "    </tr>\n",
              "    <tr>\n",
              "      <th>2014-12-30 21:00:00</th>\n",
              "      <td>0.000000</td>\n",
              "      <td>0.0</td>\n",
              "      <td>40.37</td>\n",
              "    </tr>\n",
              "    <tr>\n",
              "      <th>2014-12-30 22:00:00</th>\n",
              "      <td>0.000000</td>\n",
              "      <td>0.0</td>\n",
              "      <td>40.15</td>\n",
              "    </tr>\n",
              "    <tr>\n",
              "      <th>2014-12-30 23:00:00</th>\n",
              "      <td>0.000000</td>\n",
              "      <td>0.0</td>\n",
              "      <td>40.00</td>\n",
              "    </tr>\n",
              "    <tr>\n",
              "      <th>2014-12-31 00:00:00</th>\n",
              "      <td>0.000000</td>\n",
              "      <td>0.0</td>\n",
              "      <td>38.74</td>\n",
              "    </tr>\n",
              "  </tbody>\n",
              "</table>\n",
              "<p>8671 rows × 3 columns</p>\n",
              "</div>"
            ],
            "text/plain": [
              "                     Irradiance  Consumption  temperature\n",
              "localhour                                                \n",
              "2014-01-01 06:00:00    0.000000          0.0        39.36\n",
              "2014-01-01 07:00:00    0.052800          0.0        37.86\n",
              "2014-01-01 08:00:00    0.773583          0.0        38.97\n",
              "2014-01-01 09:00:00    2.097700          0.0        45.85\n",
              "2014-01-01 10:00:00    3.036750          0.0        51.42\n",
              "...                         ...          ...          ...\n",
              "2014-12-30 20:00:00    0.000000          0.0        41.52\n",
              "2014-12-30 21:00:00    0.000000          0.0        40.37\n",
              "2014-12-30 22:00:00    0.000000          0.0        40.15\n",
              "2014-12-30 23:00:00    0.000000          0.0        40.00\n",
              "2014-12-31 00:00:00    0.000000          0.0        38.74\n",
              "\n",
              "[8671 rows x 3 columns]"
            ]
          },
          "metadata": {},
          "execution_count": 6
        }
      ]
    }
  ]
}