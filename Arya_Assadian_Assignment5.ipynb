{
  "nbformat": 4,
  "nbformat_minor": 0,
  "metadata": {
    "colab": {
      "name": "Arya_Assadian_Assignment5.ipynb",
      "provenance": [],
      "collapsed_sections": []
    },
    "kernelspec": {
      "name": "python3",
      "display_name": "Python 3"
    },
    "language_info": {
      "name": "python"
    }
  },
  "cells": [
    {
      "cell_type": "code",
      "metadata": {
        "colab": {
          "base_uri": "https://localhost:8080/"
        },
        "id": "CrBn8H3kIdrw",
        "outputId": "7f239941-a75c-4977-c12d-89ed8886507c"
      },
      "source": [
        "#General information given by the problem\n",
        "T_inside=20  #degree C\n",
        "T_outside=-10 # degre C\n",
        "Total_area_of_the_wall=3*5             #m^2\n",
        "area_of_the_considered_unit=1*0.25     #m^2\n",
        "\n",
        "#We assume a depth of 1 meter to calculate Q unit. \n",
        "\n",
        "\n",
        "\n",
        "\n",
        "#In the fisr part we simply define the lists and transfer them to numpy.\n",
        "import numpy as np\n",
        "R_Name=[\"Inside air\",\"Brick\", \"Plaster_1\",\"Plaster_2\",\"Plaster_3\" ,\"Plaster_4\",\"Foam_1\",\"Outside air\"]\n",
        "R_Name=np.array(R_Name)\n",
        "R_Conf=[\"series\",\"Parallel\",\"series\",\"Parallel\",\"Parallel\",\"series\",\"series\",\"series\"]\n",
        "R_Conf=np.array(R_Conf)\n",
        "R_type=[\"Conv\",\"Cond\",\"Cond\",\"Cond\",\"Cond\",\"Cond\",\"Cond\",\"Conv\"]\n",
        "R_type=np.array(R_type)\n",
        "Length=[None,0.16,0.02,0.16,0.16,0.02,0.03,None]           # m\n",
        "Length=np.array(Length)\n",
        "K=[None,0.72,0.22,0.22,0.22,0.22,0.026,None]               # W/m^2.degree c\n",
        "K=np.array(K)\n",
        "A=[0.25,0.22,0.25,0.015,0.015,0.25,0.25,0.25]              # m^2\n",
        "A=np.array(A)\n",
        "h=[10,None,None,None,None,None,None,40]                    # W/m^2\n",
        "h=np.array(h)\n",
        "\n",
        "ResistanceList=np.zeros(8)\n",
        "R_type_boolean_Cond=R_type==\"Cond\"\n",
        "Length=Length[R_type_boolean_Cond]\n",
        "K=K[R_type_boolean_Cond]\n",
        "A_Cond=A[R_type_boolean_Cond]\n",
        "R_Cond=np.array(Length)/(np.array(K)*np.array(A_Cond))\n",
        "ResistanceList[R_type_boolean_Cond]=R_Cond                 #degree C/W\n",
        " \n",
        "\n",
        "\n",
        "R_type_boolean_Conv=R_type==\"Conv\"\n",
        "A_Conv=A[R_type_boolean_Conv]\n",
        "h=h[R_type_boolean_Conv]\n",
        "R_Conv=1/(np.array(A_Conv)*np.array(h))\n",
        "ResistanceList[R_type_boolean_Conv]=R_Conv                 #degree C/W\n",
        "\n",
        "#calculting the R_eq of the resistances in Parallel\n",
        "R_Conf_boolean=R_Conf==\"Parallel\"\n",
        "Parallel_ResistanceList=ResistanceList[R_Conf_boolean]\n",
        "Parallel_Resistance=1/np.sum(1/Parallel_ResistanceList)    #degree C/W\n",
        "\n",
        "#calculting the R_eq of the resistances in Series.\n",
        "R_Conf_boolean=R_Conf==\"series\"\n",
        "series_ResistanceList=ResistanceList[R_Conf_boolean]\n",
        "series_Resistance=np.sum(series_ResistanceList)            #degree C/W\n",
        "\n",
        "Total_Resistance=Parallel_Resistance+series_Resistance     #degree C/W\n",
        "\n",
        "Q_dot_unit=(T_inside-T_outside)/Total_Resistance           #W\n",
        "\n",
        "\n",
        "Q_dot_Total=Q_dot_unit*(Total_area_of_the_wall/area_of_the_considered_unit)   #w\n",
        "\n",
        "\n",
        "\n",
        "\n"
      ],
      "execution_count": 108,
      "outputs": [
        {
          "output_type": "execute_result",
          "data": {
            "text/plain": [
              "264.2258340461933"
            ]
          },
          "metadata": {},
          "execution_count": 108
        }
      ]
    },
    {
      "cell_type": "code",
      "metadata": {
        "id": "raGrvj1GlBUt"
      },
      "source": [
        ""
      ],
      "execution_count": 83,
      "outputs": []
    }
  ]
}