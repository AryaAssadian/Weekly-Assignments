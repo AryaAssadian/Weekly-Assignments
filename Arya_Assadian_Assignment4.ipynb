{
  "nbformat": 4,
  "nbformat_minor": 0,
  "metadata": {
    "colab": {
      "name": "Arya Assadian_Assignment4.ipynb",
      "provenance": []
    },
    "kernelspec": {
      "name": "python3",
      "display_name": "Python 3"
    },
    "language_info": {
      "name": "python"
    }
  },
  "cells": [
    {
      "cell_type": "code",
      "metadata": {
        "colab": {
          "base_uri": "https://localhost:8080/"
        },
        "id": "w3kzVpv-NO6z",
        "outputId": "9bf11b81-e55e-4337-880e-bf37e39e42e0"
      },
      "source": [
        "\n",
        "AirgapsLib={20:{0.03:0.65 ,0.05:0.61, 0.5:0.25, 0.82:0.18},40:{0.03:0.67 ,0.05:0.62, 0.5:0.26, 0.82:0.18},60:{0.03:0.64 ,0.05:0.60, 0.5:0.25, 0.82:0.18}}\n",
        "ThermalResLib={\"outside air\": {\"Rvalue\":0.03} , \"wood bevel lapped\":{\"standard length\":13 ,\"Rvalue\":0.14}, \"cavity made of wood\":{\"standard length\":90 , \"Rvalue\":0.63} ,\n",
        "               \"cavity made of insulation\":{\"standard length\":25 , \"Rvalue\":0.7} , \"wood fiber board\":{\"standard length\":13 , \"Rvalue\":0.23},\n",
        "               \"gypsum\":{\"standard length\":13 , \"Rvalue\":0.079}, \"inside air\":{\"Rvalue\":0.12} }\n",
        "\n",
        "def epsiloneffective(x,y):\n",
        "  \"\"\"This function receives two inputs as emmisivities and calculates the effective emmisivity\"\"\"\n",
        "  z=1/(1/x+1/y-1)\n",
        "  return z\n",
        "\n",
        "R1={\"name\":\"R_OutsideAir\" , \"type\":\"convection\" , \"material\":\"outside air\" }\n",
        "R2={\"name\":\"R_wood bevel lapped\" , \"type\":\"conduction\" , \"length\":13, \"material\":\"wood bevel lapped\" }\n",
        "R3={\"name\":\"R_cavity made of wood\" , \"type\":\"conduction\" , \"length\":90 , \"material\":\"cavity made of wood\" }\n",
        "R4={\"name\":\"R_cavity made of insulation\" , \"type\":\"convection\" , \"length\":90 ,  \"material\":\"cavity made of insulation\" }\n",
        "R5={\"name\":\"R_wood fiber board\" , \"type\":\"conduction\" , \"length\":13 , \"material\":\"wood fiber board\" }\n",
        "R6={\"name\":\"R_gypsum\" , \"type\":\"conduction\" , \"length\":13, \"material\":\"gypsum\" }\n",
        "R7={\"name\":\"R_inside air\" , \"type\":\"convection\" , \"material\":\"inside air\" }\n",
        "R8={\"name\":\"R_Airgap\" , \"type\":\"convection\" ,\"length\":20, \"material\":\"air\",\"epsilon1\":0.9,\"epsilon2\":0.05 }\n",
        "R8[\"epsiloneffective\"]=round(epsiloneffective(R8[\"epsilon1\"],R8[\"epsilon2\"]),3)\n",
        "\n",
        "A=50*2.5 #m^2\n",
        "glazing_area=20 #%\n",
        "T_in=22 #degree c\n",
        "T_out=-2 #degree c\n",
        "\n",
        "\n",
        "\n",
        "ResistanceList1=[R1,R2,R4,R5,R6,R7,R8]\n",
        "ResistanceList2=[R1,R2,R3,R5,R6,R7,R8]\n",
        "\n",
        "for AnyResistance in ResistanceList1:\n",
        "    if AnyResistance[\"material\"]!=\"air\":\n",
        "       R_AnyResistance=ThermalResLib[AnyResistance[\"material\"]][\"Rvalue\"]\n",
        "    else:\n",
        "       R_AnyResistance=AirgapsLib[AnyResistance[\"length\"]][AnyResistance[\"epsiloneffective\"]]\n",
        "    AnyResistance[\"Resistance\"]=R_AnyResistance\n",
        "\n",
        "\n",
        "for AnyResistance in ResistanceList2:\n",
        "    if AnyResistance[\"material\"]!=\"air\":\n",
        "       R_AnyResistance=ThermalResLib[AnyResistance[\"material\"]][\"Rvalue\"]\n",
        "    else:\n",
        "       R_AnyResistance=AirgapsLib[AnyResistance[\"length\"]][AnyResistance[\"epsiloneffective\"]]\n",
        "    AnyResistance[\"Resistance\"]=R_AnyResistance\n",
        "\n",
        "\n",
        "ResistanceList1[2][\"Resistance\"]=ResistanceList1[2][\"Resistance\"]*ResistanceList1[2][\"length\"]/ThermalResLib[\"cavity made of insulation\"][\"standard length\"]\n",
        "\n",
        "R_prime_1=0\n",
        "R_prime_2=0\n",
        "for anyResistance in ResistanceList1:\n",
        "  R_prime_1=anyResistance[\"Resistance\"]+R_prime_1\n",
        "for anyResistance in ResistanceList2:\n",
        "  R_prime_2=anyResistance[\"Resistance\"]+R_prime_2\n",
        "\n",
        "\n",
        "\n",
        "U1=1/R_prime_1\n",
        "U2=1/R_prime_2\n",
        "\n",
        "U_total=0.25*U2+0.75*U1\n",
        "R_prime_total=1/U_total\n",
        "\n",
        "Q_dot=U_total*(T_in-T_out)*A*(1-glazing_area/100)  #watts\n",
        "\n",
        "print('The heat tranfer rate is detemined to be', Q_dot, 'Watts, the overall unit thermal resistance is determined to be',R_prime_total,'and the overall heat transfer coefficient is detemined to be',U_total)\n",
        "\n",
        "\n",
        "\n",
        "\n",
        "\n",
        "\n",
        "\n",
        "\n",
        "\n",
        "\n",
        "\n",
        "\n",
        "\n",
        "\n",
        "\n",
        "\n",
        "\n"
      ],
      "execution_count": 17,
      "outputs": [
        {
          "output_type": "stream",
          "name": "stdout",
          "text": [
            "The heat tranfer rate is detemined to be 808.9674116323845 Watts, the overall unit thermal resistance is determined to be 2.9667449707981826 and the overall heat transfer coefficient is detemined to be 0.3370697548468269\n"
          ]
        }
      ]
    },
    {
      "cell_type": "code",
      "metadata": {
        "colab": {
          "base_uri": "https://localhost:8080/"
        },
        "id": "TCHcSUk7jYCS",
        "outputId": "b2973e6a-c3be-403b-925c-faf7227af93d"
      },
      "source": [
        ""
      ],
      "execution_count": null,
      "outputs": [
        {
          "output_type": "stream",
          "name": "stdout",
          "text": [
            "Help on function epsiloneffective in module __main__:\n",
            "\n",
            "epsiloneffective(x, y)\n",
            "    This function recieves two inputs as emmisivities and calculates the effective emmisivity as followed\n",
            "\n"
          ]
        }
      ]
    },
    {
      "cell_type": "code",
      "metadata": {
        "colab": {
          "base_uri": "https://localhost:8080/"
        },
        "id": "tVtJ1--Js6M_",
        "outputId": "798ce0b0-505a-4c0c-d8a8-3abe32b5c966"
      },
      "source": [
        "AirgapsLib={20:{0.03:0.65 ,0.05:0.61, 0.5:0.25, 0.82:0.18},40:{0.03:0.67 ,0.05:0.62, 0.5:0.26, 0.82:0.18},60:{0.03:0.64 ,0.05:0.60, 0.5:0.25, 0.82:0.18}}\n",
        "ThermalResLib={\"outside air\": {\"Rvalue\":0.03} , \"wood bevel lapped\":{\"standard length\":13 ,\"Rvalue\":0.14}, \"cavity made of wood\":{\"standard length\":90 , \"Rvalue\":0.63} ,\n",
        "               \"cavity made of insulation\":{\"standard length\":25 , \"Rvalue\":0.7} , \"wood fiber board\":{\"standard length\":13 , \"Rvalue\":0.23},\n",
        "               \"gypsum\":{\"standard length\":13 , \"Rvalue\":0.079}, \"inside air\":{\"Rvalue\":0.12}}\n",
        "\n",
        "def epsiloneffective(x,y):\n",
        "  \"\"\"This function receives two inputs as emmisivities and calculates the effective emmisivity\"\"\" \n",
        "  z=1/(1/x+1/y-1)\n",
        "  return z\n",
        "R1={\"name\":\"R_OutsideAir\" , \"type\":\"convection\" , \"material\":\"outside air\" }\n",
        "R2={\"name\":\"R_wood bevel lapped\" , \"type\":\"conduction\" , \"length\":13, \"material\":\"wood bevel lapped\" }\n",
        "R3={\"name\":\"R_cavity made of wood\" , \"type\":\"conduction\" , \"length\":90 , \"material\":\"cavity made of wood\" }\n",
        "R4={\"name\":\"R_cavity made of insulation\" , \"type\":\"convection\" , \"length\":90 ,  \"material\":\"cavity made of insulation\" }\n",
        "R5={\"name\":\"R_wood fiber board\" , \"type\":\"conduction\" , \"length\":13 , \"material\":\"wood fiber board\" }\n",
        "R6={\"name\":\"R_gypsum\" , \"type\":\"conduction\" , \"length\":13, \"material\":\"gypsum\" }\n",
        "R7={\"name\":\"R_inside air\" , \"type\":\"convection\" , \"material\":\"inside air\" }\n",
        "R8={\"name\":\"R_Airgap\" , \"type\":\"convection\" ,\"length\":20, \"material\":\"air\",\"epsilon1\":0.9,\"epsilon2\":0.05 }\n",
        "R8[\"epsiloneffective\"]=round(epsiloneffective(R8[\"epsilon1\"],R8[\"epsilon2\"]),3)\n",
        "\n",
        "sampleList=[R1,R2,R3,R4,R5,R6,R7,R8]\n",
        "\n",
        "def Resistance(AnyResistanceList):\n",
        "  \"\"\"This functions derives the resistances of the materials given as the input and shows them all in a new list.\n",
        "   It also calculates the total thermal resistance of the materials given as the input and represents this number at the end of the list\"\"\"\n",
        "  ResistanceList=[]\n",
        "  R_total=0\n",
        "  for AnyResistance in AnyResistanceList:\n",
        "     if AnyResistance[\"material\"]!=\"air\":\n",
        "        z=ThermalResLib[AnyResistance[\"material\"]][\"Rvalue\"]   \n",
        "     else:\n",
        "        z=AirgapsLib[AnyResistance[\"length\"]][AnyResistance[\"epsiloneffective\"]]\n",
        "     ResistanceList.append(z)\n",
        "     R_total=R_total+z\n",
        "  ResistanceList.append(R_total)\n",
        "   \n",
        "  return ResistanceList\n",
        "\n",
        "Resistance(sampleList)\n",
        "\n",
        "\n"
      ],
      "execution_count": 12,
      "outputs": [
        {
          "output_type": "execute_result",
          "data": {
            "text/plain": [
              "[0.03, 0.14, 0.63, 0.7, 0.23, 0.079, 0.12, 0.61, 2.5389999999999997]"
            ]
          },
          "metadata": {},
          "execution_count": 12
        }
      ]
    },
    {
      "cell_type": "code",
      "metadata": {
        "colab": {
          "base_uri": "https://localhost:8080/"
        },
        "id": "U-wlmj1qj8QV",
        "outputId": "947189e3-80a4-4fde-ced3-d0259da61116"
      },
      "source": [
        "help(Resistance)"
      ],
      "execution_count": null,
      "outputs": [
        {
          "output_type": "stream",
          "name": "stdout",
          "text": [
            "Help on function Resistance in module __main__:\n",
            "\n",
            "Resistance(AnyResistanceList)\n",
            "    This functions derives the resistances of the materials given as the input and shows them all in a new list.\n",
            "    It also calculates the total thermal resistance of the materials given as the input and represents this number at the end of the list\n",
            "\n"
          ]
        }
      ]
    }
  ]
}