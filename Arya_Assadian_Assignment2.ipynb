{
  "nbformat": 4,
  "nbformat_minor": 0,
  "metadata": {
    "colab": {
      "name": "Arya Assadian_Assignment2.ipynb",
      "provenance": [],
      "collapsed_sections": []
    },
    "kernelspec": {
      "name": "python3",
      "display_name": "Python 3"
    },
    "language_info": {
      "name": "python"
    }
  },
  "cells": [
    {
      "cell_type": "code",
      "metadata": {
        "colab": {
          "base_uri": "https://localhost:8080/"
        },
        "id": "Mim9s0JEndWV",
        "outputId": "e9d729f9-e27b-4fe6-f386-39f65ac03888"
      },
      "source": [
        "R_1= [\"R_glass\",\"cond\", 0.004 , 0.78 , 1.2 ]\n",
        "R_2= [\"R_air\", \"cond\", 0.01 , 0.026 , 1.2]\n",
        "R_3= [\"R_glass\",\"cond\", 0.004 , 0.78 , 1.2 ] \n",
        "R_conv_1=[\"R_conv_1\",\"conv\",10,1.2]\n",
        "R_conv_2=[\"R_conv_2\",\"conv\",40,1.2]\n",
        "R_total=[ R_1 , R_2 , R_3 , R_conv_1  ,R_conv_2]\n",
        "T_inf_1=20 #degree c\n",
        "T_inf_2=-10 degree c\n",
        "\n",
        "R=0\n",
        "for anyResistance in R_total:\n",
        "  if anyResistance[1]==\"cond\":\n",
        "    R_anyResistance= anyResistance[2]/(anyResistance[3]*anyResistance[4])\n",
        "  elif anyResistance[1]==\"conv\":\n",
        "    R_anyResistance=1/(anyResistance[2]*anyResistance[3])\n",
        "  else:\n",
        "    print(\"are you sure this is a predefined kind of material?\")\n",
        "\n",
        "  anyResistance.append(round(R_anyResistance,4))\n",
        "  R=R+R_anyResistance\n",
        "\n",
        "\n",
        "Q_dot=(T_inf_1-T_inf_2)/R #Watts\n",
        "T_1=T_inf_1-Q_dot*R_conv_1[4] #degree c\n",
        "\n",
        "print('The heat tranfer rate is detemined to be', Q_dot, 'Watts and the temperature of the internal surface of the glasss is determined to be',T_1,'degC.')\n",
        "\n",
        "  "
      ],
      "execution_count": 1,
      "outputs": [
        {
          "output_type": "stream",
          "name": "stdout",
          "text": [
            "The heat tranfer rate is detemined to be 69.2478421701603 Watts and the temperature of the internal surface of the glasss is determined to be 14.231654747225647 degC.\n"
          ]
        }
      ]
    }
  ]
}