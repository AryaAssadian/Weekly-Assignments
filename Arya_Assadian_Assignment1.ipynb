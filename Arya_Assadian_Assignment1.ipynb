{
  "nbformat": 4,
  "nbformat_minor": 0,
  "metadata": {
    "colab": {
      "name": "Arya Assadian_Assignment1",
      "provenance": [],
      "collapsed_sections": []
    },
    "kernelspec": {
      "display_name": "Python 3",
      "name": "python3"
    }
  },
  "cells": [
    {
      "cell_type": "code",
      "metadata": {
        "colab": {
          "base_uri": "https://localhost:8080/"
        },
        "id": "GASaitd6q4Xp",
        "outputId": "1d1b6567-f2c8-46a9-cb2e-0c92f251b64f"
      },
      "source": [
        "#PART A\n",
        "x=input(\"please insert the type of the material used:\")\n",
        "A=input(\"please insert the area of the surface:\")\n",
        "L=input(\"please insert the thickness of the surface:\")\n",
        "delta_T=input('please insert the temperature difference between the two sides of the material:')\n",
        "A=float(A)\n",
        "L=float(L)\n",
        "delta_T=float(delta_T)\n",
        "if x=='brick':\n",
        "  k=0.9 #W/m.deg(c)\n",
        "elif x=='glass':\n",
        "  k=0.78 #W/m.deg(c)\n",
        "if x=='brick' or x=='glass':\n",
        "    R=L/(k*A)\n",
        "    Q=delta_T/R\n",
        "    print('The heat transfer is determined to be', Q, 'W ')\n",
        "   \n",
        "    \n",
        "else:\n",
        "  print('the type of the material used is unknown')"
      ],
      "execution_count": null,
      "outputs": [
        {
          "output_type": "stream",
          "name": "stdout",
          "text": [
            "please insert the type of the material used:brick\n",
            "please insert the area of the surface:15\n",
            "please insert the thickness of the surface:0.3\n",
            "please insert the temperature difference between the two sides of the material:14\n",
            "The heat transfer is determined to be 630.0 W \n"
          ]
        }
      ]
    },
    {
      "cell_type": "code",
      "metadata": {
        "colab": {
          "base_uri": "https://localhost:8080/"
        },
        "id": "00f-Ii7VuZbN",
        "outputId": "ecb0ed76-86de-44da-f014-5abd0a154553"
      },
      "source": [
        "#PART B\n",
        "x=input(\"please insert the type of the material used:\")\n",
        "A=input(\"please insert the area of the surface:\")\n",
        "L=input(\"please insert the thickness of the surface:\")\n",
        "delta_T=input(\"please insert the temperature difference between the two sides of the material:\")\n",
        "A=float(A)\n",
        "L=float(L)\n",
        "delta_T=float(delta_T)\n",
        "h1=10 # W/m^2.degree c\n",
        "h2=40 # w/m^2.degree c\n",
        "T_inf_1=20 #degree c\n",
        "if x=='brick':\n",
        "  k=0.9 #w/m.deg(c)\n",
        "elif x=='glass':\n",
        "  k=0.78 #w/m.deg(c)\n",
        "if x=='brick' or x=='glass':\n",
        "    R=L/(k*A)\n",
        "    R_conv1=1/(h1*A)\n",
        "    R_conv2=1/(h2*A)\n",
        "    R_t=R+R_conv1+R_conv2\n",
        "    Q=delta_T/R_t #W\n",
        "    T_1=T_inf_1-Q*R_conv1 #dgree c\n",
        "\n",
        "    print('The heat transfer is determined to be' ,Q, 'W and the temperature of the internal surface of the glass is determined to be', T_1, 'degC')\n",
        "   \n",
        "    \n",
        "else:\n",
        "  print('the type of the material used is unknown')"
      ],
      "execution_count": null,
      "outputs": [
        {
          "output_type": "stream",
          "name": "stdout",
          "text": [
            "please insert the type of the material used:air\n",
            "please insert the area of the surface:1\n",
            "please insert the thickness of the surface:2\n",
            "please insert the temperature difference between the two sides ofth material:6\n",
            "the type of the material used is unknown\n"
          ]
        }
      ]
    }
  ]
}