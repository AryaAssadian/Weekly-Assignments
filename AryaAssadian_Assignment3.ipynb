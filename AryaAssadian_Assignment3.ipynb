{
  "nbformat": 4,
  "nbformat_minor": 0,
  "metadata": {
    "colab": {
      "name": "Assignment3_AryaAssadian.ipynb",
      "provenance": [],
      "collapsed_sections": []
    },
    "kernelspec": {
      "name": "python3",
      "display_name": "Python 3"
    },
    "language_info": {
      "name": "python"
    }
  },
  "cells": [
    {
      "cell_type": "code",
      "metadata": {
        "colab": {
          "base_uri": "https://localhost:8080/"
        },
        "id": "On8VFq0LGOb7",
        "outputId": "d78bce1f-84a1-4404-cca0-0c46f5315231"
      },
      "source": [
        "R_1={\"name\":\"glass\" , \"type\":\"conduction\", \"length\":0.004 ,\"conductivity\":0.78 , \"area\":1.2}\n",
        "R_2={\"name\":\"air\" , \"type\":\"conduction\", \"length\":0.01 ,\"conductivity\":0.026 , \"area\":1.2}\n",
        "R_3={\"name\":\"glass\" , \"type\":\"conduction\", \"length\":0.004 ,\"conductivity\":0.78 , \"area\":1.2}\n",
        "R_conv_1={\"name\":\"air\" , \"type\":\"convection\" ,\"h\":10 , \"area\":1.2}\n",
        "R_conv_2={\"name\":\"air\" , \"type\":\"convection\" ,\"h\":40 , \"area\":1.2}\n",
        "T_inf_1=20 #degree c\n",
        "T_inf_2=-10 #degree c\n",
        "\n",
        "\n",
        "Resistancelist=[R_1, R_2 , R_3 , R_conv_1 , R_conv_2]\n",
        "R_total=0\n",
        "for anyResistance in Resistancelist:\n",
        "  if anyResistance[\"type\"]==\"conduction\":\n",
        "    R_value=anyResistance[\"length\"]/(anyResistance[\"conductivity\"]*anyResistance[\"area\"])\n",
        "  elif anyResistance[\"type\"]==\"convection\":\n",
        "    R_value=1/(anyResistance[\"h\"]*anyResistance[\"area\"])\n",
        "\n",
        "  anyResistance[\"Resistance\"]=round(R_value,4)\n",
        "  R_total=R_total+anyResistance[\"Resistance\"]\n",
        "  \n",
        "Q_dot=(T_inf_1-T_inf_2)/R_total  #Watts\n",
        "T_1=T_inf_1-Q_dot*R_conv_1[\"Resistance\"]  #degree c\n",
        "\n",
        "\n",
        "print('The heat tranfer rate is detemined to be', Q_dot, 'Watts and the temperature of the internal surface of the glasss is determined to be',T_1,'degC.')\n",
        "\n",
        "\n",
        "    \n",
        "    \n",
        "   \n",
        "\n",
        " "
      ],
      "execution_count": null,
      "outputs": [
        {
          "output_type": "stream",
          "name": "stdout",
          "text": [
            "The heat tranfer rate is detemined to be 69.25207756232686 Watts and the temperature of the internal surface of the glasss is determined to be 14.231301939058174 degC.\n"
          ]
        }
      ]
    },
    {
      "cell_type": "code",
      "metadata": {
        "colab": {
          "base_uri": "https://localhost:8080/"
        },
        "id": "wwihDGEig4QD",
        "outputId": "17b165df-4309-48d0-8d44-3fb982d5aa17"
      },
      "source": [
        "ThermalResLib={\"outside air\": {\"Rvalue\":0.03} , \"wood bevel lapped\":{\"standard length\":13 ,\"Rvalue\":0.14}, \"cavity made of wood\":{\"standard length\":90 , \"Rvalue\":0.63} ,\n",
        "               \"cavity made of insulation\":{\"standard length\":25 , \"Rvalue\":0.7} , \"wood fiber board\":{\"standard length\":13 , \"Rvalue\":0.23},\n",
        "               \"gypsum\":{\"standard length\":13 , \"Rvalue\":0.079}, \"inside air\":{\"Rvalue\":0.12}}\n",
        "\n",
        "R1={\"name\":\"R_OutsideAir\" , \"type\":\"convection\" , \"material\":\"outside air\" }\n",
        "R2={\"name\":\"R_wood bevel lapped\" , \"type\":\"conduction\" , \"length\":13, \"material\":\"wood bevel lapped\" }\n",
        "R3={\"name\":\"R_cavity made of wood\" , \"type\":\"conduction\" , \"length\":90 , \"material\":\"cavity made of wood\" }\n",
        "R4={\"name\":\"R_cavity made of insulation\" , \"type\":\"convection\" , \"length\":90 ,  \"material\":\"cavity made of insulation\" }\n",
        "R5={\"name\":\"R_wood fiber board\" , \"type\":\"conduction\" , \"length\":13 , \"material\":\"wood fiber board\" }\n",
        "R6={\"name\":\"R_gypsum\" , \"type\":\"conduction\" , \"length\":13, \"material\":\"gypsum\" }\n",
        "R7={\"name\":\"R_inside air\" , \"type\":\"convection\" , \"material\":\"inside air\" }\n",
        "A=50*2.5 #m^2\n",
        "glazing_area=20 #%\n",
        "T_in=22 #degree c\n",
        "T_out=-2 #degree c\n",
        "ResistanceList=[R1,R2,R3,R4,R5,R6,R7]\n",
        "\n",
        "for AnyResistance in ResistanceList:\n",
        "  if AnyResistance[\"material\"]!=\"cavity made of insulation\":\n",
        "    R_AnyResistance=ThermalResLib[AnyResistance[\"material\"]][\"Rvalue\"]\n",
        "    AnyResistance[\"Resistance\"]=R_AnyResistance\n",
        "\n",
        "  elif AnyResistance[\"material\"]!=\"cavity made of wood\":\n",
        "    R_AnyResistance=ThermalResLib[AnyResistance[\"material\"]][\"Rvalue\"]\n",
        "    AnyResistance[\"Resistance\"]=R_AnyResistance\n",
        "\n",
        "\n",
        "ResistanceList[3][\"Resistance\"]=ResistanceList[3][\"Resistance\"]*ResistanceList[3][\"length\"]/ThermalResLib[\"cavity made of insulation\"][\"standard length\"]\n",
        "\n",
        "\n",
        "R_prime_1=0\n",
        "R_prime_2=0\n",
        "\n",
        "for AnyResistance in ResistanceList:\n",
        "  if AnyResistance[\"material\"]!=\"cavity made of insulation\":\n",
        "    R_prime_1=R_prime_1+AnyResistance[\"Resistance\"]\n",
        "\n",
        "  if AnyResistance[\"material\"]!=\"cavity made of wood\":\n",
        "    R_prime_2=R_prime_2+AnyResistance[\"Resistance\"]\n",
        "\n",
        "U1=1/R_prime_1\n",
        "U2=1/R_prime_2\n",
        "\n",
        "U_total=0.25*U1+0.75*U2\n",
        "R_prime_total=1/U_total\n",
        "\n",
        "Q_dot=U_total*(T_in-T_out)*A*(1-glazing_area/100)  #watts\n",
        "\n",
        "print('The heat tranfer rate is detemined to be', Q_dot, 'Watts, the overall unit thermal resistance is determined to be',R_prime_total,'overall heat transfer coefficient is detemined to be',U_total)\n",
        "\n",
        "    \n",
        "    \n",
        "  \n",
        "\n",
        "\n",
        "\n",
        "\n",
        "\n",
        "\n",
        "\n",
        "\n",
        "\n"
      ],
      "execution_count": null,
      "outputs": [
        {
          "output_type": "stream",
          "name": "stdout",
          "text": [
            "The heat tranfer rate is detemined to be 1065.3098375243364 Watts, the overall unit thermal resistance is determined to be 2.2528657067293563 overall heat transfer coefficient is detemined to be 0.4438790989684735\n"
          ]
        }
      ]
    }
  ]
}